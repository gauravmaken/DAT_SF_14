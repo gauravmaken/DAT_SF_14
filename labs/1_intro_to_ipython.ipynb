{
 "cells": [
  {
   "cell_type": "markdown",
   "metadata": {},
   "source": [
    "# GA Lab: iPython Notebook / Python"
   ]
  },
  {
   "cell_type": "markdown",
   "metadata": {},
   "source": [
    "## iPython Notebook"
   ]
  },
  {
   "cell_type": "markdown",
   "metadata": {},
   "source": [
    "- Shift + Enter executes the current highlight cell\n",
    "- Shift + Tab help for current command"
   ]
  },
  {
   "cell_type": "code",
   "execution_count": 7,
   "metadata": {
    "collapsed": false
   },
   "outputs": [],
   "source": [
    "#from IPython.core.display import HTML\n",
    "#HTML(\"<iframe src=http://www.nature.com/news/ipython-interactive-demo-7.21492 width=1000 height=800></iframe>\")"
   ]
  },
  {
   "cell_type": "markdown",
   "metadata": {},
   "source": [
    "### import statements"
   ]
  },
  {
   "cell_type": "code",
   "execution_count": 9,
   "metadata": {
    "collapsed": false
   },
   "outputs": [],
   "source": [
    "import numpy as np\n",
    "import pandas as pd\n",
    "import matplotlib.pyplot as plt\n",
    "from scipy.optimize import curve_fit\n",
    "\n",
    "%matplotlib inline"
   ]
  },
  {
   "cell_type": "markdown",
   "metadata": {},
   "source": [
    "### execute shell commands"
   ]
  },
  {
   "cell_type": "code",
   "execution_count": null,
   "metadata": {
    "collapsed": false
   },
   "outputs": [],
   "source": [
    "!ls -lsh"
   ]
  },
  {
   "cell_type": "markdown",
   "metadata": {},
   "source": [
    "### send shell commands to variable"
   ]
  },
  {
   "cell_type": "code",
   "execution_count": null,
   "metadata": {
    "collapsed": false
   },
   "outputs": [],
   "source": [
    "home_drive = !ls ~\n",
    "home_drive"
   ]
  },
  {
   "cell_type": "markdown",
   "metadata": {},
   "source": [
    "#### Shell magic!"
   ]
  },
  {
   "cell_type": "code",
   "execution_count": 4,
   "metadata": {
    "collapsed": false
   },
   "outputs": [
    {
     "data": {
      "application/json": {
       "cell": {
        "!": "OSMagics",
        "HTML": "Other",
        "SVG": "Other",
        "bash": "Other",
        "capture": "ExecutionMagics",
        "debug": "ExecutionMagics",
        "file": "Other",
        "html": "DisplayMagics",
        "javascript": "DisplayMagics",
        "latex": "DisplayMagics",
        "perl": "Other",
        "prun": "ExecutionMagics",
        "pypy": "Other",
        "python": "Other",
        "python2": "Other",
        "python3": "Other",
        "ruby": "Other",
        "script": "ScriptMagics",
        "sh": "Other",
        "svg": "DisplayMagics",
        "sx": "OSMagics",
        "system": "OSMagics",
        "time": "ExecutionMagics",
        "timeit": "ExecutionMagics",
        "writefile": "OSMagics"
       },
       "line": {
        "alias": "OSMagics",
        "alias_magic": "BasicMagics",
        "autocall": "AutoMagics",
        "automagic": "AutoMagics",
        "autosave": "KernelMagics",
        "bookmark": "OSMagics",
        "cat": "Other",
        "cd": "OSMagics",
        "clear": "KernelMagics",
        "colors": "BasicMagics",
        "config": "ConfigMagics",
        "connect_info": "KernelMagics",
        "cp": "Other",
        "debug": "ExecutionMagics",
        "dhist": "OSMagics",
        "dirs": "OSMagics",
        "doctest_mode": "BasicMagics",
        "ed": "Other",
        "edit": "KernelMagics",
        "env": "OSMagics",
        "gui": "BasicMagics",
        "hist": "Other",
        "history": "HistoryMagics",
        "install_default_config": "DeprecatedMagics",
        "install_ext": "ExtensionMagics",
        "install_profiles": "DeprecatedMagics",
        "killbgscripts": "ScriptMagics",
        "ldir": "Other",
        "less": "KernelMagics",
        "lf": "Other",
        "lk": "Other",
        "ll": "Other",
        "load": "CodeMagics",
        "load_ext": "ExtensionMagics",
        "loadpy": "CodeMagics",
        "logoff": "LoggingMagics",
        "logon": "LoggingMagics",
        "logstart": "LoggingMagics",
        "logstate": "LoggingMagics",
        "logstop": "LoggingMagics",
        "ls": "Other",
        "lsmagic": "BasicMagics",
        "lx": "Other",
        "macro": "ExecutionMagics",
        "magic": "BasicMagics",
        "man": "KernelMagics",
        "matplotlib": "PylabMagics",
        "mkdir": "Other",
        "more": "KernelMagics",
        "mv": "Other",
        "notebook": "BasicMagics",
        "page": "BasicMagics",
        "pastebin": "CodeMagics",
        "pdb": "ExecutionMagics",
        "pdef": "NamespaceMagics",
        "pdoc": "NamespaceMagics",
        "pfile": "NamespaceMagics",
        "pinfo": "NamespaceMagics",
        "pinfo2": "NamespaceMagics",
        "popd": "OSMagics",
        "pprint": "BasicMagics",
        "precision": "BasicMagics",
        "profile": "BasicMagics",
        "prun": "ExecutionMagics",
        "psearch": "NamespaceMagics",
        "psource": "NamespaceMagics",
        "pushd": "OSMagics",
        "pwd": "OSMagics",
        "pycat": "OSMagics",
        "pylab": "PylabMagics",
        "qtconsole": "KernelMagics",
        "quickref": "BasicMagics",
        "recall": "HistoryMagics",
        "rehashx": "OSMagics",
        "reload_ext": "ExtensionMagics",
        "rep": "Other",
        "rerun": "HistoryMagics",
        "reset": "NamespaceMagics",
        "reset_selective": "NamespaceMagics",
        "rm": "Other",
        "rmdir": "Other",
        "run": "ExecutionMagics",
        "save": "CodeMagics",
        "sc": "OSMagics",
        "set_env": "OSMagics",
        "store": "StoreMagics",
        "sx": "OSMagics",
        "system": "OSMagics",
        "tb": "ExecutionMagics",
        "time": "ExecutionMagics",
        "timeit": "ExecutionMagics",
        "unalias": "OSMagics",
        "unload_ext": "ExtensionMagics",
        "who": "NamespaceMagics",
        "who_ls": "NamespaceMagics",
        "whos": "NamespaceMagics",
        "xdel": "NamespaceMagics",
        "xmode": "BasicMagics"
       }
      },
      "text/plain": [
       "Available line magics:\n",
       "%alias  %alias_magic  %autocall  %automagic  %autosave  %bookmark  %cat  %cd  %clear  %colors  %config  %connect_info  %cp  %debug  %dhist  %dirs  %doctest_mode  %ed  %edit  %env  %gui  %hist  %history  %install_default_config  %install_ext  %install_profiles  %killbgscripts  %ldir  %less  %lf  %lk  %ll  %load  %load_ext  %loadpy  %logoff  %logon  %logstart  %logstate  %logstop  %ls  %lsmagic  %lx  %macro  %magic  %man  %matplotlib  %mkdir  %more  %mv  %notebook  %page  %pastebin  %pdb  %pdef  %pdoc  %pfile  %pinfo  %pinfo2  %popd  %pprint  %precision  %profile  %prun  %psearch  %psource  %pushd  %pwd  %pycat  %pylab  %qtconsole  %quickref  %recall  %rehashx  %reload_ext  %rep  %rerun  %reset  %reset_selective  %rm  %rmdir  %run  %save  %sc  %set_env  %store  %sx  %system  %tb  %time  %timeit  %unalias  %unload_ext  %who  %who_ls  %whos  %xdel  %xmode\n",
       "\n",
       "Available cell magics:\n",
       "%%!  %%HTML  %%SVG  %%bash  %%capture  %%debug  %%file  %%html  %%javascript  %%latex  %%perl  %%prun  %%pypy  %%python  %%python2  %%python3  %%ruby  %%script  %%sh  %%svg  %%sx  %%system  %%time  %%timeit  %%writefile\n",
       "\n",
       "Automagic is ON, % prefix IS NOT needed for line magics."
      ]
     },
     "execution_count": 4,
     "metadata": {},
     "output_type": "execute_result"
    }
   ],
   "source": [
    "%lsmagic"
   ]
  },
  {
   "cell_type": "code",
   "execution_count": 5,
   "metadata": {
    "collapsed": false
   },
   "outputs": [
    {
     "name": "stdout",
     "output_type": "stream",
     "text": [
      "The slowest run took 17.78 times longer than the fastest. This could mean that an intermediate result is being cached \n",
      "10000 loops, best of 3: 90.1 µs per loop\n"
     ]
    }
   ],
   "source": [
    "%timeit a = np.random.rand(100, 100)"
   ]
  },
  {
   "cell_type": "code",
   "execution_count": 6,
   "metadata": {
    "collapsed": false
   },
   "outputs": [
    {
     "name": "stdout",
     "output_type": "stream",
     "text": [
      "10\n",
      "Once deleted, variables cannot be recovered. Proceed (y/[n])? y\n"
     ]
    },
    {
     "ename": "NameError",
     "evalue": "name 'a' is not defined",
     "output_type": "error",
     "traceback": [
      "\u001b[0;31m---------------------------------------------------------------------------\u001b[0m",
      "\u001b[0;31mNameError\u001b[0m                                 Traceback (most recent call last)",
      "\u001b[0;32m<ipython-input-6-cf317c7c9d38>\u001b[0m in \u001b[0;36m<module>\u001b[0;34m()\u001b[0m\n\u001b[1;32m      2\u001b[0m \u001b[0;32mprint\u001b[0m \u001b[0ma\u001b[0m\u001b[0;34m\u001b[0m\u001b[0m\n\u001b[1;32m      3\u001b[0m \u001b[0mget_ipython\u001b[0m\u001b[0;34m(\u001b[0m\u001b[0;34m)\u001b[0m\u001b[0;34m.\u001b[0m\u001b[0mmagic\u001b[0m\u001b[0;34m(\u001b[0m\u001b[0;34mu'reset'\u001b[0m\u001b[0;34m)\u001b[0m\u001b[0;34m\u001b[0m\u001b[0m\n\u001b[0;32m----> 4\u001b[0;31m \u001b[0;32mprint\u001b[0m \u001b[0ma\u001b[0m\u001b[0;34m\u001b[0m\u001b[0m\n\u001b[0m",
      "\u001b[0;31mNameError\u001b[0m: name 'a' is not defined"
     ]
    }
   ],
   "source": [
    "a = 10\n",
    "print a\n",
    "%reset\n",
    "print a"
   ]
  },
  {
   "cell_type": "code",
   "execution_count": 21,
   "metadata": {
    "collapsed": false
   },
   "outputs": [
    {
     "name": "stdout",
     "output_type": "stream",
     "text": [
      "CPU times: user 3.6 ms, sys: 449 µs, total: 4.05 ms\n",
      "Wall time: 3.45 ms\n"
     ]
    }
   ],
   "source": [
    "%%time\n",
    "mu, sigma = 0, 0.1\n",
    "normal_dist = np.random.normal(mu, sigma, 100000)"
   ]
  },
  {
   "cell_type": "code",
   "execution_count": 22,
   "metadata": {
    "collapsed": false
   },
   "outputs": [
    {
     "data": {
      "text/plain": [
       "(array([   1.,    0.,    0.,    0.,    0.,    0.,    0.,    0.,    0.,\n",
       "           0.,    0.,    0.,    0.,    0.,    1.,    0.,    0.,    1.,\n",
       "           1.,    0.,    0.,    0.,    0.,    0.,    1.,    0.,    0.,\n",
       "           1.,    0.,    1.,    1.,    0.,    0.,    1.,    1.,    1.,\n",
       "           0.,    1.,    0.,    2.,    0.,    1.,    1.,    2.,    2.,\n",
       "           0.,    5.,    0.,    3.,    5.,    2.,    2.,    2.,    4.,\n",
       "           2.,    5.,    3.,    3.,    8.,    3.,   11.,    5.,   10.,\n",
       "           6.,    7.,    5.,    8.,    6.,    5.,   11.,    4.,    3.,\n",
       "           6.,   16.,    7.,    7.,    9.,   14.,   12.,   12.,   14.,\n",
       "          15.,   19.,   20.,   20.,   18.,   25.,   18.,   28.,   35.,\n",
       "          33.,   18.,   30.,   23.,   34.,   19.,   31.,   27.,   38.,\n",
       "          34.,   27.,   43.,   48.,   49.,   41.,   39.,   33.,   45.,\n",
       "          50.,   48.,   56.,   65.,   67.,   67.,   59.,   75.,   62.,\n",
       "          81.,   79.,   78.,   92.,   80.,   98.,   96.,   85.,  103.,\n",
       "          98.,   98.,   97.,  132.,  123.,  107.,  112.,  143.,  132.,\n",
       "         134.,  144.,  158.,  169.,  167.,  168.,  165.,  167.,  178.,\n",
       "         192.,  213.,  201.,  239.,  201.,  243.,  203.,  229.,  242.,\n",
       "         235.,  232.,  272.,  270.,  279.,  283.,  255.,  304.,  297.,\n",
       "         305.,  306.,  289.,  339.,  312.,  328.,  341.,  366.,  372.,\n",
       "         366.,  376.,  408.,  368.,  401.,  369.,  422.,  386.,  416.,\n",
       "         439.,  431.,  432.,  458.,  466.,  466.,  476.,  521.,  486.,\n",
       "         502.,  558.,  543.,  521.,  553.,  533.,  519.,  575.,  539.,\n",
       "         542.,  492.,  604.,  609.,  582.,  599.,  571.,  612.,  624.,\n",
       "         639.,  630.,  642.,  625.,  618.,  662.,  665.,  610.,  658.,\n",
       "         678.,  685.,  737.,  638.,  717.,  699.,  705.,  664.,  706.,\n",
       "         727.,  677.,  730.,  685.,  709.,  733.,  682.,  739.,  683.,\n",
       "         685.,  712.,  719.,  746.,  749.,  766.,  778.,  720.,  740.,\n",
       "         705.,  716.,  742.,  669.,  705.,  664.,  679.,  691.,  740.,\n",
       "         699.,  648.,  676.,  708.,  648.,  679.,  677.,  618.,  652.,\n",
       "         642.,  649.,  651.,  630.,  623.,  649.,  603.,  585.,  579.,\n",
       "         593.,  564.,  593.,  608.,  552.,  555.,  552.,  510.,  528.,\n",
       "         488.,  507.,  492.,  504.,  500.,  496.,  503.,  524.,  484.,\n",
       "         462.,  450.,  467.,  456.,  453.,  465.,  436.,  403.,  399.,\n",
       "         421.,  364.,  342.,  403.,  336.,  357.,  333.,  347.,  357.,\n",
       "         318.,  313.,  323.,  305.,  296.,  268.,  260.,  272.,  265.,\n",
       "         239.,  260.,  233.,  227.,  238.,  224.,  215.,  212.,  194.,\n",
       "         204.,  197.,  177.,  194.,  182.,  160.,  161.,  146.,  151.,\n",
       "         156.,  147.,  156.,  147.,  143.,  146.,  138.,  121.,  126.,\n",
       "         116.,  114.,   97.,  117.,   88.,   98.,   90.,   84.,   87.,\n",
       "          92.,   75.,   70.,   70.,   65.,   54.,   54.,   56.,   59.,\n",
       "          42.,   57.,   50.,   40.,   49.,   47.,   44.,   53.,   46.,\n",
       "          41.,   46.,   34.,   45.,   36.,   32.,   24.,   39.,   32.,\n",
       "          38.,   26.,   28.,   22.,   24.,   24.,   14.,   15.,   19.,\n",
       "          16.,   18.,   14.,   16.,   16.,   13.,   13.,    7.,   11.,\n",
       "          10.,    9.,   10.,   13.,   11.,    6.,   10.,    7.,   12.,\n",
       "          10.,    7.,    3.,    5.,    5.,    8.,   11.,    9.,    5.,\n",
       "           4.,    2.,    0.,    3.,    4.,    3.,    3.,    1.,    5.,\n",
       "           6.,    4.,    2.,    1.,    3.,    1.,    2.,    0.,    0.,\n",
       "           0.,    0.,    2.,    1.,    0.,    2.,    0.,    3.,    1.,\n",
       "           0.,    1.,    2.,    0.,    0.,    0.,    0.,    0.,    0.,\n",
       "           0.,    0.,    2.,    1.,    1.,    2.,    1.,    0.,    0.,\n",
       "           1.,    0.,    0.,    0.,    0.,    0.,    0.,    0.,    1.,\n",
       "           0.,    0.,    1.,    0.,    0.,    0.,    0.,    0.,    0.,\n",
       "           0.,    0.,    0.,    0.,    0.,    0.,    0.,    0.,    0.,\n",
       "           0.,    0.,    0.,    0.,    0.,    0.,    0.,    0.,    0.,\n",
       "           0.,    0.,    0.,    1.,    1.]),\n",
       " array([ -4.25719807e-01,  -4.23915639e-01,  -4.22111472e-01,\n",
       "         -4.20307304e-01,  -4.18503136e-01,  -4.16698969e-01,\n",
       "         -4.14894801e-01,  -4.13090634e-01,  -4.11286466e-01,\n",
       "         -4.09482299e-01,  -4.07678131e-01,  -4.05873963e-01,\n",
       "         -4.04069796e-01,  -4.02265628e-01,  -4.00461461e-01,\n",
       "         -3.98657293e-01,  -3.96853126e-01,  -3.95048958e-01,\n",
       "         -3.93244790e-01,  -3.91440623e-01,  -3.89636455e-01,\n",
       "         -3.87832288e-01,  -3.86028120e-01,  -3.84223953e-01,\n",
       "         -3.82419785e-01,  -3.80615617e-01,  -3.78811450e-01,\n",
       "         -3.77007282e-01,  -3.75203115e-01,  -3.73398947e-01,\n",
       "         -3.71594780e-01,  -3.69790612e-01,  -3.67986444e-01,\n",
       "         -3.66182277e-01,  -3.64378109e-01,  -3.62573942e-01,\n",
       "         -3.60769774e-01,  -3.58965607e-01,  -3.57161439e-01,\n",
       "         -3.55357271e-01,  -3.53553104e-01,  -3.51748936e-01,\n",
       "         -3.49944769e-01,  -3.48140601e-01,  -3.46336434e-01,\n",
       "         -3.44532266e-01,  -3.42728098e-01,  -3.40923931e-01,\n",
       "         -3.39119763e-01,  -3.37315596e-01,  -3.35511428e-01,\n",
       "         -3.33707261e-01,  -3.31903093e-01,  -3.30098925e-01,\n",
       "         -3.28294758e-01,  -3.26490590e-01,  -3.24686423e-01,\n",
       "         -3.22882255e-01,  -3.21078088e-01,  -3.19273920e-01,\n",
       "         -3.17469752e-01,  -3.15665585e-01,  -3.13861417e-01,\n",
       "         -3.12057250e-01,  -3.10253082e-01,  -3.08448915e-01,\n",
       "         -3.06644747e-01,  -3.04840579e-01,  -3.03036412e-01,\n",
       "         -3.01232244e-01,  -2.99428077e-01,  -2.97623909e-01,\n",
       "         -2.95819742e-01,  -2.94015574e-01,  -2.92211406e-01,\n",
       "         -2.90407239e-01,  -2.88603071e-01,  -2.86798904e-01,\n",
       "         -2.84994736e-01,  -2.83190569e-01,  -2.81386401e-01,\n",
       "         -2.79582233e-01,  -2.77778066e-01,  -2.75973898e-01,\n",
       "         -2.74169731e-01,  -2.72365563e-01,  -2.70561396e-01,\n",
       "         -2.68757228e-01,  -2.66953060e-01,  -2.65148893e-01,\n",
       "         -2.63344725e-01,  -2.61540558e-01,  -2.59736390e-01,\n",
       "         -2.57932223e-01,  -2.56128055e-01,  -2.54323887e-01,\n",
       "         -2.52519720e-01,  -2.50715552e-01,  -2.48911385e-01,\n",
       "         -2.47107217e-01,  -2.45303050e-01,  -2.43498882e-01,\n",
       "         -2.41694715e-01,  -2.39890547e-01,  -2.38086379e-01,\n",
       "         -2.36282212e-01,  -2.34478044e-01,  -2.32673877e-01,\n",
       "         -2.30869709e-01,  -2.29065542e-01,  -2.27261374e-01,\n",
       "         -2.25457206e-01,  -2.23653039e-01,  -2.21848871e-01,\n",
       "         -2.20044704e-01,  -2.18240536e-01,  -2.16436369e-01,\n",
       "         -2.14632201e-01,  -2.12828033e-01,  -2.11023866e-01,\n",
       "         -2.09219698e-01,  -2.07415531e-01,  -2.05611363e-01,\n",
       "         -2.03807196e-01,  -2.02003028e-01,  -2.00198860e-01,\n",
       "         -1.98394693e-01,  -1.96590525e-01,  -1.94786358e-01,\n",
       "         -1.92982190e-01,  -1.91178023e-01,  -1.89373855e-01,\n",
       "         -1.87569687e-01,  -1.85765520e-01,  -1.83961352e-01,\n",
       "         -1.82157185e-01,  -1.80353017e-01,  -1.78548850e-01,\n",
       "         -1.76744682e-01,  -1.74940514e-01,  -1.73136347e-01,\n",
       "         -1.71332179e-01,  -1.69528012e-01,  -1.67723844e-01,\n",
       "         -1.65919677e-01,  -1.64115509e-01,  -1.62311341e-01,\n",
       "         -1.60507174e-01,  -1.58703006e-01,  -1.56898839e-01,\n",
       "         -1.55094671e-01,  -1.53290504e-01,  -1.51486336e-01,\n",
       "         -1.49682168e-01,  -1.47878001e-01,  -1.46073833e-01,\n",
       "         -1.44269666e-01,  -1.42465498e-01,  -1.40661331e-01,\n",
       "         -1.38857163e-01,  -1.37052995e-01,  -1.35248828e-01,\n",
       "         -1.33444660e-01,  -1.31640493e-01,  -1.29836325e-01,\n",
       "         -1.28032158e-01,  -1.26227990e-01,  -1.24423822e-01,\n",
       "         -1.22619655e-01,  -1.20815487e-01,  -1.19011320e-01,\n",
       "         -1.17207152e-01,  -1.15402985e-01,  -1.13598817e-01,\n",
       "         -1.11794649e-01,  -1.09990482e-01,  -1.08186314e-01,\n",
       "         -1.06382147e-01,  -1.04577979e-01,  -1.02773812e-01,\n",
       "         -1.00969644e-01,  -9.91654764e-02,  -9.73613089e-02,\n",
       "         -9.55571413e-02,  -9.37529737e-02,  -9.19488061e-02,\n",
       "         -9.01446386e-02,  -8.83404710e-02,  -8.65363034e-02,\n",
       "         -8.47321359e-02,  -8.29279683e-02,  -8.11238007e-02,\n",
       "         -7.93196331e-02,  -7.75154656e-02,  -7.57112980e-02,\n",
       "         -7.39071304e-02,  -7.21029629e-02,  -7.02987953e-02,\n",
       "         -6.84946277e-02,  -6.66904602e-02,  -6.48862926e-02,\n",
       "         -6.30821250e-02,  -6.12779574e-02,  -5.94737899e-02,\n",
       "         -5.76696223e-02,  -5.58654547e-02,  -5.40612872e-02,\n",
       "         -5.22571196e-02,  -5.04529520e-02,  -4.86487844e-02,\n",
       "         -4.68446169e-02,  -4.50404493e-02,  -4.32362817e-02,\n",
       "         -4.14321142e-02,  -3.96279466e-02,  -3.78237790e-02,\n",
       "         -3.60196114e-02,  -3.42154439e-02,  -3.24112763e-02,\n",
       "         -3.06071087e-02,  -2.88029412e-02,  -2.69987736e-02,\n",
       "         -2.51946060e-02,  -2.33904385e-02,  -2.15862709e-02,\n",
       "         -1.97821033e-02,  -1.79779357e-02,  -1.61737682e-02,\n",
       "         -1.43696006e-02,  -1.25654330e-02,  -1.07612655e-02,\n",
       "         -8.95709789e-03,  -7.15293032e-03,  -5.34876275e-03,\n",
       "         -3.54459518e-03,  -1.74042761e-03,   6.37399634e-05,\n",
       "          1.86790753e-03,   3.67207510e-03,   5.47624268e-03,\n",
       "          7.28041025e-03,   9.08457782e-03,   1.08887454e-02,\n",
       "          1.26929130e-02,   1.44970805e-02,   1.63012481e-02,\n",
       "          1.81054157e-02,   1.99095832e-02,   2.17137508e-02,\n",
       "          2.35179184e-02,   2.53220860e-02,   2.71262535e-02,\n",
       "          2.89304211e-02,   3.07345887e-02,   3.25387562e-02,\n",
       "          3.43429238e-02,   3.61470914e-02,   3.79512589e-02,\n",
       "          3.97554265e-02,   4.15595941e-02,   4.33637617e-02,\n",
       "          4.51679292e-02,   4.69720968e-02,   4.87762644e-02,\n",
       "          5.05804319e-02,   5.23845995e-02,   5.41887671e-02,\n",
       "          5.59929347e-02,   5.77971022e-02,   5.96012698e-02,\n",
       "          6.14054374e-02,   6.32096049e-02,   6.50137725e-02,\n",
       "          6.68179401e-02,   6.86221076e-02,   7.04262752e-02,\n",
       "          7.22304428e-02,   7.40346104e-02,   7.58387779e-02,\n",
       "          7.76429455e-02,   7.94471131e-02,   8.12512806e-02,\n",
       "          8.30554482e-02,   8.48596158e-02,   8.66637834e-02,\n",
       "          8.84679509e-02,   9.02721185e-02,   9.20762861e-02,\n",
       "          9.38804536e-02,   9.56846212e-02,   9.74887888e-02,\n",
       "          9.92929563e-02,   1.01097124e-01,   1.02901291e-01,\n",
       "          1.04705459e-01,   1.06509627e-01,   1.08313794e-01,\n",
       "          1.10117962e-01,   1.11922129e-01,   1.13726297e-01,\n",
       "          1.15530464e-01,   1.17334632e-01,   1.19138800e-01,\n",
       "          1.20942967e-01,   1.22747135e-01,   1.24551302e-01,\n",
       "          1.26355470e-01,   1.28159637e-01,   1.29963805e-01,\n",
       "          1.31767973e-01,   1.33572140e-01,   1.35376308e-01,\n",
       "          1.37180475e-01,   1.38984643e-01,   1.40788810e-01,\n",
       "          1.42592978e-01,   1.44397146e-01,   1.46201313e-01,\n",
       "          1.48005481e-01,   1.49809648e-01,   1.51613816e-01,\n",
       "          1.53417983e-01,   1.55222151e-01,   1.57026319e-01,\n",
       "          1.58830486e-01,   1.60634654e-01,   1.62438821e-01,\n",
       "          1.64242989e-01,   1.66047156e-01,   1.67851324e-01,\n",
       "          1.69655492e-01,   1.71459659e-01,   1.73263827e-01,\n",
       "          1.75067994e-01,   1.76872162e-01,   1.78676329e-01,\n",
       "          1.80480497e-01,   1.82284665e-01,   1.84088832e-01,\n",
       "          1.85893000e-01,   1.87697167e-01,   1.89501335e-01,\n",
       "          1.91305502e-01,   1.93109670e-01,   1.94913838e-01,\n",
       "          1.96718005e-01,   1.98522173e-01,   2.00326340e-01,\n",
       "          2.02130508e-01,   2.03934675e-01,   2.05738843e-01,\n",
       "          2.07543011e-01,   2.09347178e-01,   2.11151346e-01,\n",
       "          2.12955513e-01,   2.14759681e-01,   2.16563848e-01,\n",
       "          2.18368016e-01,   2.20172184e-01,   2.21976351e-01,\n",
       "          2.23780519e-01,   2.25584686e-01,   2.27388854e-01,\n",
       "          2.29193021e-01,   2.30997189e-01,   2.32801357e-01,\n",
       "          2.34605524e-01,   2.36409692e-01,   2.38213859e-01,\n",
       "          2.40018027e-01,   2.41822194e-01,   2.43626362e-01,\n",
       "          2.45430530e-01,   2.47234697e-01,   2.49038865e-01,\n",
       "          2.50843032e-01,   2.52647200e-01,   2.54451367e-01,\n",
       "          2.56255535e-01,   2.58059703e-01,   2.59863870e-01,\n",
       "          2.61668038e-01,   2.63472205e-01,   2.65276373e-01,\n",
       "          2.67080540e-01,   2.68884708e-01,   2.70688876e-01,\n",
       "          2.72493043e-01,   2.74297211e-01,   2.76101378e-01,\n",
       "          2.77905546e-01,   2.79709713e-01,   2.81513881e-01,\n",
       "          2.83318049e-01,   2.85122216e-01,   2.86926384e-01,\n",
       "          2.88730551e-01,   2.90534719e-01,   2.92338886e-01,\n",
       "          2.94143054e-01,   2.95947222e-01,   2.97751389e-01,\n",
       "          2.99555557e-01,   3.01359724e-01,   3.03163892e-01,\n",
       "          3.04968059e-01,   3.06772227e-01,   3.08576395e-01,\n",
       "          3.10380562e-01,   3.12184730e-01,   3.13988897e-01,\n",
       "          3.15793065e-01,   3.17597232e-01,   3.19401400e-01,\n",
       "          3.21205568e-01,   3.23009735e-01,   3.24813903e-01,\n",
       "          3.26618070e-01,   3.28422238e-01,   3.30226405e-01,\n",
       "          3.32030573e-01,   3.33834741e-01,   3.35638908e-01,\n",
       "          3.37443076e-01,   3.39247243e-01,   3.41051411e-01,\n",
       "          3.42855578e-01,   3.44659746e-01,   3.46463914e-01,\n",
       "          3.48268081e-01,   3.50072249e-01,   3.51876416e-01,\n",
       "          3.53680584e-01,   3.55484751e-01,   3.57288919e-01,\n",
       "          3.59093087e-01,   3.60897254e-01,   3.62701422e-01,\n",
       "          3.64505589e-01,   3.66309757e-01,   3.68113924e-01,\n",
       "          3.69918092e-01,   3.71722260e-01,   3.73526427e-01,\n",
       "          3.75330595e-01,   3.77134762e-01,   3.78938930e-01,\n",
       "          3.80743097e-01,   3.82547265e-01,   3.84351433e-01,\n",
       "          3.86155600e-01,   3.87959768e-01,   3.89763935e-01,\n",
       "          3.91568103e-01,   3.93372270e-01,   3.95176438e-01,\n",
       "          3.96980606e-01,   3.98784773e-01,   4.00588941e-01,\n",
       "          4.02393108e-01,   4.04197276e-01,   4.06001443e-01,\n",
       "          4.07805611e-01,   4.09609779e-01,   4.11413946e-01,\n",
       "          4.13218114e-01,   4.15022281e-01,   4.16826449e-01,\n",
       "          4.18630616e-01,   4.20434784e-01,   4.22238951e-01,\n",
       "          4.24043119e-01,   4.25847287e-01,   4.27651454e-01,\n",
       "          4.29455622e-01,   4.31259789e-01,   4.33063957e-01,\n",
       "          4.34868124e-01,   4.36672292e-01,   4.38476460e-01,\n",
       "          4.40280627e-01,   4.42084795e-01,   4.43888962e-01,\n",
       "          4.45693130e-01,   4.47497297e-01,   4.49301465e-01,\n",
       "          4.51105633e-01,   4.52909800e-01,   4.54713968e-01,\n",
       "          4.56518135e-01,   4.58322303e-01,   4.60126470e-01,\n",
       "          4.61930638e-01,   4.63734806e-01,   4.65538973e-01,\n",
       "          4.67343141e-01,   4.69147308e-01,   4.70951476e-01,\n",
       "          4.72755643e-01,   4.74559811e-01,   4.76363979e-01]),\n",
       " <a list of 500 Patch objects>)"
      ]
     },
     "execution_count": 22,
     "metadata": {},
     "output_type": "execute_result"
    },
    {
     "data": {
      "image/png": "[encoded data removed]",
      "text/plain": [
       "<matplotlib.figure.Figure at 0x10cfcab50>"
      ]
     },
     "metadata": {},
     "output_type": "display_data"
    }
   ],
   "source": [
    "#plt.plot(normal_dist)\n",
    "##verify if the data points really follow the ND\n",
    "### googled how to plot histogram using python\n",
    "#plt.hist(normal_dist, bins=100, edgecolor ='none')\n",
    "## we want to show the histogram with more buckets\n",
    "#help(plt.hist)\n",
    "\n",
    "#mu, sigma = 0, 0.1\n",
    "#normal_dist = np.random.normal(mu, sigma, 100000)\n",
    "#plt.hist (normal_dist, bins=500, edgecolor='none')\n",
    "\n",
    "#x = np.arange(0, 5, 0.1);\n",
    "#y = np.sin(x)\n",
    "#plt.plot(x, y)\n"
   ]
  },
  {
   "cell_type": "code",
   "execution_count": 25,
   "metadata": {
    "collapsed": false
   },
   "outputs": [
    {
     "data": {
      "text/plain": [
       "pandas.core.frame.DataFrame"
      ]
     },
     "execution_count": 25,
     "metadata": {},
     "output_type": "execute_result"
    }
   ],
   "source": [
    "import pandas.io.data\n",
    "import datetime\n",
    "aapl = pd.io.data.get_data_yahoo('TWTR', \n",
    "                                 start=datetime.datetime(2015, 4, 1), \n",
    "                                 end=datetime.datetime(2015, 4, 28))\n",
    "type(aapl)\n",
    "#aapl.head()"
   ]
  },
  {
   "cell_type": "markdown",
   "metadata": {},
   "source": [
    "## Plotting!"
   ]
  },
  {
   "cell_type": "code",
   "execution_count": 30,
   "metadata": {
    "collapsed": false
   },
   "outputs": [
    {
     "data": {
      "text/plain": [
       "<matplotlib.text.Text at 0x11d888250>"
      ]
     },
     "execution_count": 30,
     "metadata": {},
     "output_type": "execute_result"
    },
    {
     "data": {
      "image/png": "[encoded data removed]",
      "text/plain": [
       "<matplotlib.figure.Figure at 0x10f41ae50>"
      ]
     },
     "metadata": {},
     "output_type": "display_data"
    }
   ],
   "source": [
    "fig = plt.figure(figsize=(20,16))\n",
    "#type(fig)\n",
    "\n",
    "ax = fig.add_subplot(2,2,1)\n",
    "ax.plot(aapl.index, aapl['Close'])\n",
    "ax.set_title('Line plots', size=24)\n",
    "\n",
    "#ax = fig.add_subplot(2,2,2)\n",
    "#ax.plot(aapl['Close'], 'o')\n",
    "#ax.set_title('Scatter plots', size=24)\n",
    "\n",
    "#ax = fig.add_subplot(2,2,3)\n",
    "#ax.hist(normal_dist, bins=50)\n",
    "#ax.set_title('Histograms', size=24)\n",
    "#ax.set_xlabel('count', size=16)\n",
    "\n",
    "#ax = fig.add_subplot(2,2,4)\n",
    "#ax.boxplot(normal_dist)\n",
    "#ax.set_title('Boxplots', size=24)\n",
    "#print"
   ]
  },
  {
   "cell_type": "markdown",
   "metadata": {},
   "source": [
    "## 1. Python Data types"
   ]
  },
  {
   "cell_type": "code",
   "execution_count": 26,
   "metadata": {
    "collapsed": false
   },
   "outputs": [
    {
     "data": {
      "text/plain": [
       "int"
      ]
     },
     "execution_count": 26,
     "metadata": {},
     "output_type": "execute_result"
    }
   ],
   "source": [
    "type(42)"
   ]
  },
  {
   "cell_type": "code",
   "execution_count": 27,
   "metadata": {
    "collapsed": false
   },
   "outputs": [
    {
     "name": "stdout",
     "output_type": "stream",
     "text": [
      "3.14159265359\n"
     ]
    }
   ],
   "source": [
    "from math import pi\n",
    "type(pi)\n",
    "print pi"
   ]
  },
  {
   "cell_type": "code",
   "execution_count": 28,
   "metadata": {
    "collapsed": false
   },
   "outputs": [
    {
     "data": {
      "text/plain": [
       "str"
      ]
     },
     "execution_count": 28,
     "metadata": {},
     "output_type": "execute_result"
    }
   ],
   "source": [
    "type('matt')"
   ]
  },
  {
   "cell_type": "code",
   "execution_count": 29,
   "metadata": {
    "collapsed": false
   },
   "outputs": [
    {
     "data": {
      "text/plain": [
       "unicode"
      ]
     },
     "execution_count": 29,
     "metadata": {},
     "output_type": "execute_result"
    }
   ],
   "source": [
    "type(u'matt')"
   ]
  },
  {
   "cell_type": "markdown",
   "metadata": {},
   "source": [
    "## 2. Basic Python execution"
   ]
  },
  {
   "cell_type": "code",
   "execution_count": 30,
   "metadata": {
    "collapsed": false
   },
   "outputs": [],
   "source": [
    "test_integer = 42\n",
    "test_float = pi\n",
    "test_string = 'matt'"
   ]
  },
  {
   "cell_type": "markdown",
   "metadata": {},
   "source": [
    "#### Basic print"
   ]
  },
  {
   "cell_type": "code",
   "execution_count": 31,
   "metadata": {
    "collapsed": false
   },
   "outputs": [
    {
     "name": "stdout",
     "output_type": "stream",
     "text": [
      "(42, 3.141592653589793, 'matt')\n"
     ]
    }
   ],
   "source": [
    "print (test_integer, test_float, test_string)"
   ]
  },
  {
   "cell_type": "markdown",
   "metadata": {},
   "source": [
    "#### C-style formatting"
   ]
  },
  {
   "cell_type": "code",
   "execution_count": 32,
   "metadata": {
    "collapsed": false
   },
   "outputs": [
    {
     "name": "stdout",
     "output_type": "stream",
     "text": [
      "42 3.141593 matt\n",
      "42 3.14 matt\n"
     ]
    }
   ],
   "source": [
    "print (\"%d %f %s\") % (test_integer, test_float, test_string)\n",
    "print (\"%d %.2f %s\") % (test_integer, test_float, test_string)"
   ]
  },
  {
   "cell_type": "markdown",
   "metadata": {},
   "source": [
    "#### Format - the pythonic way"
   ]
  },
  {
   "cell_type": "code",
   "execution_count": null,
   "metadata": {
    "collapsed": true
   },
   "outputs": [],
   "source": []
  },
  {
   "cell_type": "code",
   "execution_count": 34,
   "metadata": {
    "collapsed": false
   },
   "outputs": [
    {
     "name": "stdout",
     "output_type": "stream",
     "text": [
      "42 3.14159265359 matt\n",
      "42 3.14159 matt\n"
     ]
    }
   ],
   "source": [
    "print (\"{} {} {}\").format(test_integer, test_float, test_string)\n",
    "print (\"{} {:.5f} {}\").format(test_integer, test_float, test_string)"
   ]
  },
  {
   "cell_type": "markdown",
   "metadata": {},
   "source": [
    "## Python operations"
   ]
  },
  {
   "cell_type": "code",
   "execution_count": 35,
   "metadata": {
    "collapsed": false
   },
   "outputs": [
    {
     "data": {
      "text/plain": [
       "3.5"
      ]
     },
     "execution_count": 35,
     "metadata": {},
     "output_type": "execute_result"
    }
   ],
   "source": [
    "1 + 2.5"
   ]
  },
  {
   "cell_type": "code",
   "execution_count": 36,
   "metadata": {
    "collapsed": false
   },
   "outputs": [
    {
     "ename": "TypeError",
     "evalue": "cannot concatenate 'str' and 'int' objects",
     "output_type": "error",
     "traceback": [
      "\u001b[0;31m---------------------------------------------------------------------------\u001b[0m",
      "\u001b[0;31mTypeError\u001b[0m                                 Traceback (most recent call last)",
      "\u001b[0;32m<ipython-input-36-c5ddb2ff93cd>\u001b[0m in \u001b[0;36m<module>\u001b[0;34m()\u001b[0m\n\u001b[0;32m----> 1\u001b[0;31m \u001b[0;34m'matt'\u001b[0m \u001b[0;34m+\u001b[0m \u001b[0;36m1\u001b[0m\u001b[0;34m\u001b[0m\u001b[0m\n\u001b[0m",
      "\u001b[0;31mTypeError\u001b[0m: cannot concatenate 'str' and 'int' objects"
     ]
    }
   ],
   "source": [
    "'matt' + 1"
   ]
  },
  {
   "cell_type": "markdown",
   "metadata": {},
   "source": [
    "### Python 2.7 division"
   ]
  },
  {
   "cell_type": "code",
   "execution_count": 31,
   "metadata": {
    "collapsed": false
   },
   "outputs": [],
   "source": [
    "numerator, denominator = 1,2"
   ]
  },
  {
   "cell_type": "markdown",
   "metadata": {},
   "source": [
    "#### Important to remember:"
   ]
  },
  {
   "cell_type": "code",
   "execution_count": 32,
   "metadata": {
    "collapsed": false
   },
   "outputs": [
    {
     "name": "stdout",
     "output_type": "stream",
     "text": [
      "0\n"
     ]
    }
   ],
   "source": [
    "print (numerator / denominator)"
   ]
  },
  {
   "cell_type": "code",
   "execution_count": 33,
   "metadata": {
    "collapsed": false
   },
   "outputs": [
    {
     "name": "stdout",
     "output_type": "stream",
     "text": [
      "0.5\n"
     ]
    }
   ],
   "source": [
    "print (numerator / float(denominator))"
   ]
  },
  {
   "cell_type": "code",
   "execution_count": 34,
   "metadata": {
    "collapsed": false
   },
   "outputs": [
    {
     "name": "stdout",
     "output_type": "stream",
     "text": [
      "0\n",
      "0.5\n"
     ]
    }
   ],
   "source": [
    "print 1/2\n",
    "from __future__ import division\n",
    "print 1/2"
   ]
  },
  {
   "cell_type": "markdown",
   "metadata": {},
   "source": [
    "### 3. Python Data Structures"
   ]
  },
  {
   "cell_type": "markdown",
   "metadata": {},
   "source": [
    "## Lists [ ]"
   ]
  },
  {
   "cell_type": "markdown",
   "metadata": {},
   "source": [
    "- aka arrays\n",
    "- ordered\n",
    "- mutable\n",
    "- mixed types "
   ]
  },
  {
   "cell_type": "code",
   "execution_count": 38,
   "metadata": {
    "collapsed": false
   },
   "outputs": [
    {
     "name": "stdout",
     "output_type": "stream",
     "text": [
      "11 elements\n",
      "1000\n",
      "[95, 120, 134, 220, 300, 324, 347, 567, 888, 976, 1400]\n",
      "[1400, 888, 347, 300, 134, 95]\n"
     ]
    }
   ],
   "source": [
    "price_per_sq_foot = [300,324,220,976,347,888,134,95,567,1400,120]\n",
    "ppsf = price_per_sq_foot\n",
    "type(price_per_sq_foot)\n",
    "\n",
    "print \"{} elements\".format(len(ppsf))\n",
    "ppsf.append(1000)\n",
    "print ppsf.pop()\n",
    "\n",
    "sorted(ppsf)\n",
    "print sorted(price_per_sq_foot)[::1]\n",
    "print sorted(price_per_sq_foot)[::-2]\n",
    "                           "
   ]
  },
  {
   "cell_type": "markdown",
   "metadata": {},
   "source": [
    "#### list operations:"
   ]
  },
  {
   "cell_type": "code",
   "execution_count": 42,
   "metadata": {
    "collapsed": false
   },
   "outputs": [
    {
     "name": "stdout",
     "output_type": "stream",
     "text": [
      "There are 11 elements in the list\n",
      "\n",
      "Updated price per square foot\n",
      "[300, 324, 220, 976, 347, 888, 134, 95, 567, 1400, 120, 1000]\n",
      "Last in, updated price per sq foot\n",
      "(1000, [300, 324, 220, 976, 347, 888, 134, 95, 567, 1400, 120])\n",
      "Sorted list\n",
      "[95, 120, 134, 220, 300, 324, 347, 567, 888, 976, 1400]\n",
      "Reverse order\n",
      "[1400, 976, 888, 567, 347, 324, 300, 220, 134, 120, 95]\n"
     ]
    }
   ],
   "source": [
    "#Number of elements in the list\n",
    "print \"There are {} elements in the list\".format(len(price_per_sq_foot))\n",
    "print\n",
    "\n",
    "#Add an item to the end of the list\n",
    "price_per_sq_foot.append(1000)\n",
    "print \"Updated price per square foot\"\n",
    "print (price_per_sq_foot)\n",
    "\n",
    "#Remove and return most recent element\n",
    "last_element = price_per_sq_foot.pop()\n",
    "print \"Last in, updated price per sq foot\"\n",
    "print (last_element, price_per_sq_foot)\n",
    "\n",
    "#Sort the array\n",
    "print \"Sorted list\"\n",
    "print sorted(price_per_sq_foot)\n",
    "\n",
    "#Reverse order\n",
    "print \"Reverse order\"\n",
    "print sorted(price_per_sq_foot)[::-1]"
   ]
  },
  {
   "cell_type": "markdown",
   "metadata": {},
   "source": [
    "#### List slicing"
   ]
  },
  {
   "cell_type": "code",
   "execution_count": 43,
   "metadata": {
    "collapsed": false
   },
   "outputs": [
    {
     "name": "stdout",
     "output_type": "stream",
     "text": [
      "First element\n",
      "Cheapest: 95\n",
      "\n",
      "Last element\n",
      "Most expensive: 1400\n",
      "Most expensive: 1400\n"
     ]
    }
   ],
   "source": [
    "#First element\n",
    "sorted_ppsf = sorted(price_per_sq_foot)\n",
    "print \"First element\"\n",
    "print 'Cheapest: {}'.format(sorted_ppsf[0])\n",
    "print \n",
    "print \"Last element\"\n",
    "print 'Most expensive: {}'.format(sorted_ppsf[len(sorted_ppsf) - 1])\n",
    "#or\n",
    "print 'Most expensive: {}'.format(sorted_ppsf[-1])"
   ]
  },
  {
   "cell_type": "markdown",
   "metadata": {},
   "source": [
    "## Tuples ( )"
   ]
  },
  {
   "cell_type": "markdown",
   "metadata": {},
   "source": [
    "- immutable\n",
    "- can't change / sort\n",
    "- functional programming"
   ]
  },
  {
   "cell_type": "code",
   "execution_count": 39,
   "metadata": {
    "collapsed": false
   },
   "outputs": [
    {
     "name": "stdout",
     "output_type": "stream",
     "text": [
      "1\n",
      "2\n"
     ]
    },
    {
     "ename": "TypeError",
     "evalue": "'tuple' object does not support item assignment",
     "output_type": "error",
     "traceback": [
      "\u001b[0;31m---------------------------------------------------------------------------\u001b[0m",
      "\u001b[0;31mTypeError\u001b[0m                                 Traceback (most recent call last)",
      "\u001b[0;32m<ipython-input-39-6417465cec9e>\u001b[0m in \u001b[0;36m<module>\u001b[0;34m()\u001b[0m\n\u001b[1;32m      2\u001b[0m \u001b[0;32mprint\u001b[0m \u001b[0mtest\u001b[0m\u001b[0;34m[\u001b[0m\u001b[0;36m0\u001b[0m\u001b[0;34m]\u001b[0m\u001b[0;34m\u001b[0m\u001b[0m\n\u001b[1;32m      3\u001b[0m \u001b[0;32mprint\u001b[0m \u001b[0mtest\u001b[0m\u001b[0;34m[\u001b[0m\u001b[0;36m1\u001b[0m\u001b[0;34m]\u001b[0m\u001b[0;34m\u001b[0m\u001b[0m\n\u001b[0;32m----> 4\u001b[0;31m \u001b[0mtest\u001b[0m\u001b[0;34m[\u001b[0m\u001b[0;36m0\u001b[0m\u001b[0;34m]\u001b[0m \u001b[0;34m=\u001b[0m \u001b[0mtest\u001b[0m\u001b[0;34m[\u001b[0m\u001b[0;36m1\u001b[0m\u001b[0;34m]\u001b[0m\u001b[0;34m\u001b[0m\u001b[0m\n\u001b[0m",
      "\u001b[0;31mTypeError\u001b[0m: 'tuple' object does not support item assignment"
     ]
    }
   ],
   "source": [
    "test = (1, 2)\n",
    "print test[0]\n",
    "print test[1]\n",
    "test[0] = test[1]"
   ]
  },
  {
   "cell_type": "markdown",
   "metadata": {},
   "source": [
    "## Dictionary { }"
   ]
  },
  {
   "cell_type": "markdown",
   "metadata": {},
   "source": [
    "- aka associate arrays / key-value pairs\n",
    "- mutable\n",
    "- unordered"
   ]
  },
  {
   "cell_type": "code",
   "execution_count": 40,
   "metadata": {
    "collapsed": false
   },
   "outputs": [
    {
     "name": "stdout",
     "output_type": "stream",
     "text": [
      "Name Matthew: Headcount: 3\n"
     ]
    }
   ],
   "source": [
    "#Can contain multiple types\n",
    "employee_info = {'id': 123, 'name': 'Matthew', 'manages': [45,67,90], 'managed_by': 2}\n",
    "student_info = {'id': 123, 'name': 'Student a', 'enrolled_In': [41,31], 'class_teacher': 2}\n",
    "\n",
    "print \"Name {}: Headcount: {}\".format(employee_info['name'], len(employee_info['manages']))"
   ]
  },
  {
   "cell_type": "code",
   "execution_count": 42,
   "metadata": {
    "collapsed": false
   },
   "outputs": [
    {
     "name": "stdout",
     "output_type": "stream",
     "text": [
      "{'FB': 'Full back', 'QB': 'Quarterback', 'WR': 'Wide Receiver', 'RB': 'Running Back', 'TE': 'Tight End'}\n"
     ]
    }
   ],
   "source": [
    "offensive_skill_dict = {'RB': 'Running Back', 'WR': 'Wide Receiver', 'QB': 'Quarterback', 'FB': 'Full back', 'TE': 'Tight End'}\n",
    "print offensive_skill_dict"
   ]
  },
  {
   "cell_type": "code",
   "execution_count": 43,
   "metadata": {
    "collapsed": false
   },
   "outputs": [
    {
     "name": "stdout",
     "output_type": "stream",
     "text": [
      "['FB', 'QB', 'WR', 'RB', 'TE']\n"
     ]
    }
   ],
   "source": [
    "print offensive_skill_dict.keys()"
   ]
  },
  {
   "cell_type": "markdown",
   "metadata": {},
   "source": [
    "### Sets"
   ]
  },
  {
   "cell_type": "markdown",
   "metadata": {},
   "source": [
    "- unique\n",
    "- cool operations"
   ]
  },
  {
   "cell_type": "code",
   "execution_count": 44,
   "metadata": {
    "collapsed": false
   },
   "outputs": [
    {
     "name": "stdout",
     "output_type": "stream",
     "text": [
      "set([1, 2, 3, 4, 5, 6, 8])\n"
     ]
    }
   ],
   "source": [
    "#remove redundant entries\n",
    "list_list = [1,1,2,4,6,8,3,1,2,4,5]\n",
    "set_list = set(list_list)\n",
    "print set_list"
   ]
  },
  {
   "cell_type": "code",
   "execution_count": 45,
   "metadata": {
    "collapsed": false
   },
   "outputs": [
    {
     "name": "stdout",
     "output_type": "stream",
     "text": [
      "Genes in panel 1 but not in panel b: set(['BRCA1', 'BRCA2', 'TP53'])\n",
      "\n",
      "Genes in both panels (Intersection): set(['MYC', 'CHEK2'])\n",
      "\n",
      "All the genes: set(['BRCA1', 'MYCN', 'SPHK1', 'BRCA2', 'TP53', 'MYC', 'CHEK2'])\n",
      "\n",
      "Genes in A that aren't in B, genes in B that aren't in A (symmetric difference): set(['BRCA1', 'MYCN', 'SPHK1', 'BRCA2', 'TP53'])\n",
      "\n"
     ]
    }
   ],
   "source": [
    "#Set operations\n",
    "panel_a, panel_b = set(('BRCA1', 'BRCA2', 'TP53', 'CHEK2', 'MYC')), set(('CHEK2', 'SPHK1', 'MYCN', 'MYC'))\n",
    "\n",
    "print \"Genes in panel 1 but not in panel b: {}\\n\".format((panel_a - panel_b))\n",
    "print \"Genes in both panels (Intersection): {}\\n\".format(panel_a & panel_b)\n",
    "print \"All the genes: {}\\n\".format(panel_a | panel_b)\n",
    "print \"Genes in A that aren't in B, genes in B that aren't in A (symmetric difference): {}\\n\".format(panel_a ^ panel_b)\n"
   ]
  },
  {
   "cell_type": "code",
   "execution_count": null,
   "metadata": {
    "collapsed": false
   },
   "outputs": [],
   "source": []
  },
  {
   "cell_type": "markdown",
   "metadata": {},
   "source": [
    "### 4. flow control"
   ]
  },
  {
   "cell_type": "markdown",
   "metadata": {},
   "source": [
    "### iterating through a list"
   ]
  },
  {
   "cell_type": "code",
   "execution_count": 46,
   "metadata": {
    "collapsed": false
   },
   "outputs": [],
   "source": [
    "my_list = ['Jimmy Carter','Ronald Regan','George Bush','Bill Clinton', 'George HW Bush', 'Barack Obama']"
   ]
  },
  {
   "cell_type": "code",
   "execution_count": 47,
   "metadata": {
    "collapsed": false
   },
   "outputs": [
    {
     "name": "stdout",
     "output_type": "stream",
     "text": [
      "Jimmy Carter\n",
      "Ronald Regan\n",
      "George Bush\n",
      "Bill Clinton\n",
      "George HW Bush\n",
      "Barack Obama\n"
     ]
    }
   ],
   "source": [
    "#Not the best way\n",
    "for index in range(0, len(my_list)):\n",
    "    print my_list[index]"
   ]
  },
  {
   "cell_type": "code",
   "execution_count": 48,
   "metadata": {
    "collapsed": false
   },
   "outputs": [
    {
     "name": "stdout",
     "output_type": "stream",
     "text": [
      "Jimmy Carter\n",
      "Ronald Regan\n",
      "George Bush\n",
      "Bill Clinton\n",
      "George HW Bush\n",
      "Barack Obama\n"
     ]
    }
   ],
   "source": [
    "#Better\n",
    "for president in my_list:\n",
    "    print (president)"
   ]
  },
  {
   "cell_type": "code",
   "execution_count": 49,
   "metadata": {
    "collapsed": false
   },
   "outputs": [
    {
     "name": "stdout",
     "output_type": "stream",
     "text": [
      "0 Jimmy Carter\n",
      "1 Ronald Regan\n",
      "2 George Bush\n",
      "3 Bill Clinton\n",
      "4 George HW Bush\n",
      "5 Barack Obama\n"
     ]
    }
   ],
   "source": [
    "#what if I want the index too\n",
    "for index, president in enumerate(my_list):\n",
    "    print index, president"
   ]
  },
  {
   "cell_type": "code",
   "execution_count": 50,
   "metadata": {
    "collapsed": false
   },
   "outputs": [
    {
     "data": {
      "text/plain": [
       "['Jimmy Carter',\n",
       " 'Ronald Regan',\n",
       " 'George Bush',\n",
       " 'Bill Clinton',\n",
       " 'George HW Bush',\n",
       " 'Barack Obama']"
      ]
     },
     "execution_count": 50,
     "metadata": {},
     "output_type": "execute_result"
    }
   ],
   "source": [
    "#list comprehension - this is pythonic - and faster!\n",
    "[x for x in my_list] ## print [len(president) for president in my_list]"
   ]
  },
  {
   "cell_type": "markdown",
   "metadata": {},
   "source": [
    "#### Faster?"
   ]
  },
  {
   "cell_type": "code",
   "execution_count": 44,
   "metadata": {
    "collapsed": false
   },
   "outputs": [
    {
     "name": "stdout",
     "output_type": "stream",
     "text": [
      "1 loops, best of 3: 8.03 s per loop\n"
     ]
    }
   ],
   "source": [
    "%%timeit\n",
    "result = []\n",
    "for x in range(1,10000):\n",
    "    for y in range(1,10000):\n",
    "        result.append(x)\n",
    "len(result)"
   ]
  },
  {
   "cell_type": "code",
   "execution_count": null,
   "metadata": {
    "collapsed": false
   },
   "outputs": [],
   "source": [
    "%%timeit\n",
    "field = [x for x in range(1,10000) for y in range(1,10000)]\n",
    "len(field)"
   ]
  },
  {
   "cell_type": "code",
   "execution_count": 46,
   "metadata": {
    "collapsed": false
   },
   "outputs": [
    {
     "data": {
      "text/plain": [
       "[('yes', 'a'), ('no', 'b'), ('yes', 'c')]"
      ]
     },
     "execution_count": 46,
     "metadata": {},
     "output_type": "execute_result"
    }
   ],
   "source": [
    "label = ['yes', 'no', 'yes']\n",
    "data = ['a', 'b' , 'c'] \n",
    "zip(label, data)"
   ]
  },
  {
   "cell_type": "code",
   "execution_count": 47,
   "metadata": {
    "collapsed": false
   },
   "outputs": [
    {
     "data": {
      "text/plain": [
       "list"
      ]
     },
     "execution_count": 47,
     "metadata": {},
     "output_type": "execute_result"
    }
   ],
   "source": [
    "type (map (len, label))"
   ]
  },
  {
   "cell_type": "code",
   "execution_count": 56,
   "metadata": {
    "collapsed": false
   },
   "outputs": [
    {
     "data": {
      "text/plain": [
       "[1, 4, 9]"
      ]
     },
     "execution_count": 56,
     "metadata": {},
     "output_type": "execute_result"
    }
   ],
   "source": [
    "#lambda\n",
    "g = lambda x: x**2\n",
    "\n",
    "a = [1,2,3]\n",
    "map(g,a)"
   ]
  },
  {
   "cell_type": "code",
   "execution_count": 48,
   "metadata": {
    "collapsed": false
   },
   "outputs": [
    {
     "ename": "NameError",
     "evalue": "name 'comprehensions' is not defined",
     "output_type": "error",
     "traceback": [
      "\u001b[0;31m---------------------------------------------------------------------------\u001b[0m",
      "\u001b[0;31mNameError\u001b[0m                                 Traceback (most recent call last)",
      "\u001b[0;32m<ipython-input-48-08776eea31e9>\u001b[0m in \u001b[0;36m<module>\u001b[0;34m()\u001b[0m\n\u001b[0;32m----> 1\u001b[0;31m \u001b[0mcomprehensions\u001b[0m\u001b[0;34m\u001b[0m\u001b[0m\n\u001b[0m",
      "\u001b[0;31mNameError\u001b[0m: name 'comprehensions' is not defined"
     ]
    }
   ],
   "source": [
    "comprehensions"
   ]
  },
  {
   "cell_type": "markdown",
   "metadata": {},
   "source": [
    "### Additional Resources"
   ]
  },
  {
   "cell_type": "markdown",
   "metadata": {},
   "source": [
    "Web based viewer for ipython notebooks\n",
    "http://nbviewer.ipython.org/"
   ]
  }
 ],
 "metadata": {
  "kernelspec": {
   "display_name": "Python 2",
   "language": "python",
   "name": "python2"
  },
  "language_info": {
   "codemirror_mode": {
    "name": "ipython",
    "version": 2
   },
   "file_extension": ".py",
   "mimetype": "text/x-python",
   "name": "python",
   "nbconvert_exporter": "python",
   "pygments_lexer": "ipython2",
   "version": "2.7.9"
  }
 },
 "nbformat": 4,
 "nbformat_minor": 0
}
